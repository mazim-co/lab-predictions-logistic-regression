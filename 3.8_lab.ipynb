{
 "cells": [
  {
   "cell_type": "code",
   "execution_count": 1,
   "metadata": {},
   "outputs": [
    {
     "name": "stdin",
     "output_type": "stream",
     "text": [
      " ···········\n"
     ]
    }
   ],
   "source": [
    "import pymysql\n",
    "from sqlalchemy import create_engine\n",
    "import pandas as pd\n",
    "import getpass  # To get the password without showing the input\n",
    "password = getpass.getpass()"
   ]
  },
  {
   "cell_type": "code",
   "execution_count": 124,
   "metadata": {},
   "outputs": [],
   "source": [
    "connection_string = 'mysql+pymysql://root:' + password + '@localhost/sakila'\n",
    "engine = create_engine(connection_string)\n",
    "# data = pd.read_sql_query('SELECT * FROM loan', engine)\n",
    "# data.head()"
   ]
  },
  {
   "cell_type": "code",
   "execution_count": 125,
   "metadata": {},
   "outputs": [
    {
     "data": {
      "text/html": [
       "<div>\n",
       "<style scoped>\n",
       "    .dataframe tbody tr th:only-of-type {\n",
       "        vertical-align: middle;\n",
       "    }\n",
       "\n",
       "    .dataframe tbody tr th {\n",
       "        vertical-align: top;\n",
       "    }\n",
       "\n",
       "    .dataframe thead th {\n",
       "        text-align: right;\n",
       "    }\n",
       "</style>\n",
       "<table border=\"1\" class=\"dataframe\">\n",
       "  <thead>\n",
       "    <tr style=\"text-align: right;\">\n",
       "      <th></th>\n",
       "      <th>category_id</th>\n",
       "      <th>name</th>\n",
       "      <th>last_update</th>\n",
       "      <th>film_id</th>\n",
       "      <th>category_id</th>\n",
       "      <th>last_update</th>\n",
       "      <th>film_id</th>\n",
       "      <th>title</th>\n",
       "      <th>description</th>\n",
       "      <th>release_year</th>\n",
       "      <th>language_id</th>\n",
       "      <th>original_language_id</th>\n",
       "      <th>rental_duration</th>\n",
       "      <th>rental_rate</th>\n",
       "      <th>length</th>\n",
       "      <th>replacement_cost</th>\n",
       "      <th>rating</th>\n",
       "      <th>special_features</th>\n",
       "      <th>last_update</th>\n",
       "    </tr>\n",
       "  </thead>\n",
       "  <tbody>\n",
       "    <tr>\n",
       "      <th>0</th>\n",
       "      <td>1</td>\n",
       "      <td>Action</td>\n",
       "      <td>2006-02-15 04:46:27</td>\n",
       "      <td>19</td>\n",
       "      <td>1</td>\n",
       "      <td>2006-02-15 05:07:09</td>\n",
       "      <td>19</td>\n",
       "      <td>AMADEUS HOLY</td>\n",
       "      <td>A Emotional Display of a Pioneer And a Technic...</td>\n",
       "      <td>2006</td>\n",
       "      <td>1</td>\n",
       "      <td>None</td>\n",
       "      <td>6</td>\n",
       "      <td>0.99</td>\n",
       "      <td>113</td>\n",
       "      <td>20.99</td>\n",
       "      <td>PG</td>\n",
       "      <td>Commentaries,Deleted Scenes,Behind the Scenes</td>\n",
       "      <td>2006-02-15 05:03:42</td>\n",
       "    </tr>\n",
       "    <tr>\n",
       "      <th>1</th>\n",
       "      <td>1</td>\n",
       "      <td>Action</td>\n",
       "      <td>2006-02-15 04:46:27</td>\n",
       "      <td>21</td>\n",
       "      <td>1</td>\n",
       "      <td>2006-02-15 05:07:09</td>\n",
       "      <td>21</td>\n",
       "      <td>AMERICAN CIRCUS</td>\n",
       "      <td>A Insightful Drama of a Girl And a Astronaut w...</td>\n",
       "      <td>2006</td>\n",
       "      <td>1</td>\n",
       "      <td>None</td>\n",
       "      <td>3</td>\n",
       "      <td>4.99</td>\n",
       "      <td>129</td>\n",
       "      <td>17.99</td>\n",
       "      <td>R</td>\n",
       "      <td>Commentaries,Behind the Scenes</td>\n",
       "      <td>2006-02-15 05:03:42</td>\n",
       "    </tr>\n",
       "    <tr>\n",
       "      <th>2</th>\n",
       "      <td>1</td>\n",
       "      <td>Action</td>\n",
       "      <td>2006-02-15 04:46:27</td>\n",
       "      <td>29</td>\n",
       "      <td>1</td>\n",
       "      <td>2006-02-15 05:07:09</td>\n",
       "      <td>29</td>\n",
       "      <td>ANTITRUST TOMATOES</td>\n",
       "      <td>A Fateful Yarn of a Womanizer And a Feminist w...</td>\n",
       "      <td>2006</td>\n",
       "      <td>1</td>\n",
       "      <td>None</td>\n",
       "      <td>5</td>\n",
       "      <td>2.99</td>\n",
       "      <td>168</td>\n",
       "      <td>11.99</td>\n",
       "      <td>NC-17</td>\n",
       "      <td>Trailers,Commentaries,Deleted Scenes</td>\n",
       "      <td>2006-02-15 05:03:42</td>\n",
       "    </tr>\n",
       "    <tr>\n",
       "      <th>3</th>\n",
       "      <td>1</td>\n",
       "      <td>Action</td>\n",
       "      <td>2006-02-15 04:46:27</td>\n",
       "      <td>38</td>\n",
       "      <td>1</td>\n",
       "      <td>2006-02-15 05:07:09</td>\n",
       "      <td>38</td>\n",
       "      <td>ARK RIDGEMONT</td>\n",
       "      <td>A Beautiful Yarn of a Pioneer And a Monkey who...</td>\n",
       "      <td>2006</td>\n",
       "      <td>1</td>\n",
       "      <td>None</td>\n",
       "      <td>6</td>\n",
       "      <td>0.99</td>\n",
       "      <td>68</td>\n",
       "      <td>25.99</td>\n",
       "      <td>NC-17</td>\n",
       "      <td>Trailers,Commentaries,Deleted Scenes,Behind th...</td>\n",
       "      <td>2006-02-15 05:03:42</td>\n",
       "    </tr>\n",
       "    <tr>\n",
       "      <th>4</th>\n",
       "      <td>1</td>\n",
       "      <td>Action</td>\n",
       "      <td>2006-02-15 04:46:27</td>\n",
       "      <td>56</td>\n",
       "      <td>1</td>\n",
       "      <td>2006-02-15 05:07:09</td>\n",
       "      <td>56</td>\n",
       "      <td>BAREFOOT MANCHURIAN</td>\n",
       "      <td>A Intrepid Story of a Cat And a Student who mu...</td>\n",
       "      <td>2006</td>\n",
       "      <td>1</td>\n",
       "      <td>None</td>\n",
       "      <td>6</td>\n",
       "      <td>2.99</td>\n",
       "      <td>129</td>\n",
       "      <td>15.99</td>\n",
       "      <td>G</td>\n",
       "      <td>Trailers,Commentaries</td>\n",
       "      <td>2006-02-15 05:03:42</td>\n",
       "    </tr>\n",
       "  </tbody>\n",
       "</table>\n",
       "</div>"
      ],
      "text/plain": [
       "   category_id    name         last_update  film_id  category_id  \\\n",
       "0            1  Action 2006-02-15 04:46:27       19            1   \n",
       "1            1  Action 2006-02-15 04:46:27       21            1   \n",
       "2            1  Action 2006-02-15 04:46:27       29            1   \n",
       "3            1  Action 2006-02-15 04:46:27       38            1   \n",
       "4            1  Action 2006-02-15 04:46:27       56            1   \n",
       "\n",
       "          last_update  film_id                title  \\\n",
       "0 2006-02-15 05:07:09       19         AMADEUS HOLY   \n",
       "1 2006-02-15 05:07:09       21      AMERICAN CIRCUS   \n",
       "2 2006-02-15 05:07:09       29   ANTITRUST TOMATOES   \n",
       "3 2006-02-15 05:07:09       38        ARK RIDGEMONT   \n",
       "4 2006-02-15 05:07:09       56  BAREFOOT MANCHURIAN   \n",
       "\n",
       "                                         description  release_year  \\\n",
       "0  A Emotional Display of a Pioneer And a Technic...          2006   \n",
       "1  A Insightful Drama of a Girl And a Astronaut w...          2006   \n",
       "2  A Fateful Yarn of a Womanizer And a Feminist w...          2006   \n",
       "3  A Beautiful Yarn of a Pioneer And a Monkey who...          2006   \n",
       "4  A Intrepid Story of a Cat And a Student who mu...          2006   \n",
       "\n",
       "   language_id original_language_id  rental_duration  rental_rate  length  \\\n",
       "0            1                 None                6         0.99     113   \n",
       "1            1                 None                3         4.99     129   \n",
       "2            1                 None                5         2.99     168   \n",
       "3            1                 None                6         0.99      68   \n",
       "4            1                 None                6         2.99     129   \n",
       "\n",
       "   replacement_cost rating                                   special_features  \\\n",
       "0             20.99     PG      Commentaries,Deleted Scenes,Behind the Scenes   \n",
       "1             17.99      R                     Commentaries,Behind the Scenes   \n",
       "2             11.99  NC-17               Trailers,Commentaries,Deleted Scenes   \n",
       "3             25.99  NC-17  Trailers,Commentaries,Deleted Scenes,Behind th...   \n",
       "4             15.99      G                              Trailers,Commentaries   \n",
       "\n",
       "          last_update  \n",
       "0 2006-02-15 05:03:42  \n",
       "1 2006-02-15 05:03:42  \n",
       "2 2006-02-15 05:03:42  \n",
       "3 2006-02-15 05:03:42  \n",
       "4 2006-02-15 05:03:42  "
      ]
     },
     "execution_count": 125,
     "metadata": {},
     "output_type": "execute_result"
    }
   ],
   "source": [
    "query = '''SELECT \n",
    "*\n",
    "FROM category c\n",
    "LEFT JOIN film_category fc\n",
    "ON c.category_id = fc.category_id \n",
    "LEFT JOIN film f\n",
    "ON f.film_id = fc.film_id\n",
    "WHERE c.category_id < 5;'''\n",
    "df = pd.read_sql_query(query, engine)\n",
    "df.head()"
   ]
  },
  {
   "cell_type": "code",
   "execution_count": 127,
   "metadata": {},
   "outputs": [
    {
     "data": {
      "text/plain": [
       "0             AMADEUS HOLY\n",
       "1          AMERICAN CIRCUS\n",
       "2       ANTITRUST TOMATOES\n",
       "3            ARK RIDGEMONT\n",
       "4      BAREFOOT MANCHURIAN\n",
       "              ...         \n",
       "242       TOWERS HURRICANE\n",
       "243           VOLUME HOUSE\n",
       "244         VOYAGE LEGALLY\n",
       "245       WASTELAND DIVINE\n",
       "246    WESTWARD SEABISCUIT\n",
       "Name: title, Length: 247, dtype: object"
      ]
     },
     "execution_count": 127,
     "metadata": {},
     "output_type": "execute_result"
    }
   ],
   "source": [
    "df['title']"
   ]
  },
  {
   "cell_type": "code",
   "execution_count": 90,
   "metadata": {},
   "outputs": [],
   "source": [
    "def sf_clean(x):\n",
    "    if x in ['Trailers,Commentaries,Deleted Scenes,Behind the Scenes']:\n",
    "        return 4\n",
    "    if x in ['Deleted Scenes,Behind the Scenes', 'Trailers,Deleted Scenes', 'Commentaries,Deleted Scenes', 'Trailers,Commentaries', 'Commentaries,Behind the Scenes', 'Trailers,Behind the Scenes']:\n",
    "        return 2\n",
    "    if x in ['Trailers', 'Deleted Scenes', 'Behind the Scenes', 'Commentaries']:\n",
    "        return 1\n",
    "    else: \n",
    "        return 3"
   ]
  },
  {
   "cell_type": "code",
   "execution_count": 91,
   "metadata": {},
   "outputs": [],
   "source": [
    "df['sfCount'] = list(map(sf_clean, df['special_features']))"
   ]
  },
  {
   "cell_type": "code",
   "execution_count": 92,
   "metadata": {},
   "outputs": [],
   "source": [
    "df = df.drop(['special_features', 'rating', 'category_id','last_update', 'film_id', 'description'], axis=1)"
   ]
  },
  {
   "cell_type": "code",
   "execution_count": 94,
   "metadata": {},
   "outputs": [
    {
     "data": {
      "text/html": [
       "<div>\n",
       "<style scoped>\n",
       "    .dataframe tbody tr th:only-of-type {\n",
       "        vertical-align: middle;\n",
       "    }\n",
       "\n",
       "    .dataframe tbody tr th {\n",
       "        vertical-align: top;\n",
       "    }\n",
       "\n",
       "    .dataframe thead th {\n",
       "        text-align: right;\n",
       "    }\n",
       "</style>\n",
       "<table border=\"1\" class=\"dataframe\">\n",
       "  <thead>\n",
       "    <tr style=\"text-align: right;\">\n",
       "      <th></th>\n",
       "      <th>name</th>\n",
       "      <th>title</th>\n",
       "      <th>release_year</th>\n",
       "      <th>rental_duration</th>\n",
       "      <th>rental_rate</th>\n",
       "      <th>length</th>\n",
       "      <th>replacement_cost</th>\n",
       "      <th>sfCount</th>\n",
       "    </tr>\n",
       "  </thead>\n",
       "  <tbody>\n",
       "    <tr>\n",
       "      <th>0</th>\n",
       "      <td>Action</td>\n",
       "      <td>AMADEUS HOLY</td>\n",
       "      <td>2006</td>\n",
       "      <td>6</td>\n",
       "      <td>0.99</td>\n",
       "      <td>113</td>\n",
       "      <td>20.99</td>\n",
       "      <td>3</td>\n",
       "    </tr>\n",
       "  </tbody>\n",
       "</table>\n",
       "</div>"
      ],
      "text/plain": [
       "     name         title  release_year  rental_duration  rental_rate  length  \\\n",
       "0  Action  AMADEUS HOLY          2006                6         0.99     113   \n",
       "\n",
       "   replacement_cost  sfCount  \n",
       "0             20.99        3  "
      ]
     },
     "execution_count": 94,
     "metadata": {},
     "output_type": "execute_result"
    }
   ],
   "source": [
    "df = df.drop(['language_id', 'original_language_id'], axis=1)\n",
    "df.head(1)"
   ]
  },
  {
   "cell_type": "code",
   "execution_count": 97,
   "metadata": {},
   "outputs": [
    {
     "data": {
      "text/plain": [
       "name                 object\n",
       "title                object\n",
       "release_year          int64\n",
       "rental_duration       int64\n",
       "rental_rate         float64\n",
       "length                int64\n",
       "replacement_cost    float64\n",
       "sfCount               int64\n",
       "dtype: object"
      ]
     },
     "execution_count": 97,
     "metadata": {},
     "output_type": "execute_result"
    }
   ],
   "source": [
    "df.dtypes"
   ]
  },
  {
   "cell_type": "code",
   "execution_count": null,
   "metadata": {},
   "outputs": [],
   "source": []
  },
  {
   "cell_type": "code",
   "execution_count": null,
   "metadata": {},
   "outputs": [],
   "source": []
  },
  {
   "cell_type": "code",
   "execution_count": 98,
   "metadata": {},
   "outputs": [],
   "source": [
    "import matplotlib.pyplot as plt\n",
    "import seaborn as sns\n",
    "%matplotlib inline"
   ]
  },
  {
   "cell_type": "code",
   "execution_count": 99,
   "metadata": {},
   "outputs": [
    {
     "data": {
      "image/png": "[encoded data removed]",
      "text/plain": [
       "<Figure size 720x576 with 2 Axes>"
      ]
     },
     "metadata": {
      "needs_background": "light"
     },
     "output_type": "display_data"
    }
   ],
   "source": [
    "corr_matrix=data.corr(method='pearson')  # default\n",
    "fig, ax = plt.subplots(figsize=(10, 8))\n",
    "ax = sns.heatmap(corr_matrix, annot=True)\n",
    "plt.show()"
   ]
  },
  {
   "cell_type": "code",
   "execution_count": 100,
   "metadata": {},
   "outputs": [],
   "source": [
    "from sklearn.preprocessing import Normalizer\n",
    "# from sklearn.preprocessing import StandardScaler\n",
    "import numpy as np\n",
    "X = df.select_dtypes(include = np.number)\n",
    "\n",
    "# Normalizing numercial data\n",
    "transformer = Normalizer().fit(X)\n",
    "x_normalized = transformer.transform(X)\n",
    "x = pd.DataFrame(x_normalized)"
   ]
  },
  {
   "cell_type": "code",
   "execution_count": 104,
   "metadata": {},
   "outputs": [],
   "source": [
    "cat = df.select_dtypes(include = np.object)"
   ]
  },
  {
   "cell_type": "code",
   "execution_count": 105,
   "metadata": {},
   "outputs": [
    {
     "data": {
      "text/html": [
       "<div>\n",
       "<style scoped>\n",
       "    .dataframe tbody tr th:only-of-type {\n",
       "        vertical-align: middle;\n",
       "    }\n",
       "\n",
       "    .dataframe tbody tr th {\n",
       "        vertical-align: top;\n",
       "    }\n",
       "\n",
       "    .dataframe thead th {\n",
       "        text-align: right;\n",
       "    }\n",
       "</style>\n",
       "<table border=\"1\" class=\"dataframe\">\n",
       "  <thead>\n",
       "    <tr style=\"text-align: right;\">\n",
       "      <th></th>\n",
       "      <th>name</th>\n",
       "      <th>title</th>\n",
       "    </tr>\n",
       "  </thead>\n",
       "  <tbody>\n",
       "    <tr>\n",
       "      <th>0</th>\n",
       "      <td>Action</td>\n",
       "      <td>AMADEUS HOLY</td>\n",
       "    </tr>\n",
       "    <tr>\n",
       "      <th>1</th>\n",
       "      <td>Action</td>\n",
       "      <td>AMERICAN CIRCUS</td>\n",
       "    </tr>\n",
       "    <tr>\n",
       "      <th>2</th>\n",
       "      <td>Action</td>\n",
       "      <td>ANTITRUST TOMATOES</td>\n",
       "    </tr>\n",
       "    <tr>\n",
       "      <th>3</th>\n",
       "      <td>Action</td>\n",
       "      <td>ARK RIDGEMONT</td>\n",
       "    </tr>\n",
       "    <tr>\n",
       "      <th>4</th>\n",
       "      <td>Action</td>\n",
       "      <td>BAREFOOT MANCHURIAN</td>\n",
       "    </tr>\n",
       "  </tbody>\n",
       "</table>\n",
       "</div>"
      ],
      "text/plain": [
       "     name                title\n",
       "0  Action         AMADEUS HOLY\n",
       "1  Action      AMERICAN CIRCUS\n",
       "2  Action   ANTITRUST TOMATOES\n",
       "3  Action        ARK RIDGEMONT\n",
       "4  Action  BAREFOOT MANCHURIAN"
      ]
     },
     "execution_count": 105,
     "metadata": {},
     "output_type": "execute_result"
    }
   ],
   "source": [
    "cat.head()"
   ]
  },
  {
   "cell_type": "code",
   "execution_count": 107,
   "metadata": {},
   "outputs": [],
   "source": [
    "cat = df.select_dtypes(include = np.object)\n",
    "cat = cat.drop(['name'], axis=1)\n"
   ]
  },
  {
   "cell_type": "code",
   "execution_count": 108,
   "metadata": {},
   "outputs": [],
   "source": [
    "categorical = pd.get_dummies(cat, columns=['title']) #encoding the cats"
   ]
  },
  {
   "cell_type": "code",
   "execution_count": 109,
   "metadata": {},
   "outputs": [],
   "source": [
    "y = df['name']\n",
    "X = np.concatenate((x, categorical), axis=1)"
   ]
  },
  {
   "cell_type": "code",
   "execution_count": 110,
   "metadata": {},
   "outputs": [],
   "source": [
    "from sklearn.model_selection import train_test_split\n",
    "X_train, X_test, y_train, y_test = train_test_split(X, y, test_size=0.4, random_state=100)"
   ]
  },
  {
   "cell_type": "code",
   "execution_count": 111,
   "metadata": {},
   "outputs": [],
   "source": [
    "from sklearn.linear_model import LogisticRegression\n",
    "classification = LogisticRegression(random_state=0, solver='lbfgs',\n",
    "                  multi_class='multinomial').fit(X_train, y_train)"
   ]
  },
  {
   "cell_type": "code",
   "execution_count": 112,
   "metadata": {},
   "outputs": [
    {
     "data": {
      "text/plain": [
       "0.25252525252525254"
      ]
     },
     "execution_count": 112,
     "metadata": {},
     "output_type": "execute_result"
    }
   ],
   "source": [
    "classification.score(X_test, y_test)"
   ]
  },
  {
   "cell_type": "code",
   "execution_count": 113,
   "metadata": {},
   "outputs": [
    {
     "data": {
      "text/plain": [
       "0.25252525252525254"
      ]
     },
     "execution_count": 113,
     "metadata": {},
     "output_type": "execute_result"
    }
   ],
   "source": [
    "predictions = classification.predict(X_test)\n",
    "classification.score(X_test, y_test)"
   ]
  },
  {
   "cell_type": "code",
   "execution_count": 114,
   "metadata": {},
   "outputs": [
    {
     "data": {
      "text/plain": [
       "Animation    99\n",
       "dtype: int64"
      ]
     },
     "execution_count": 114,
     "metadata": {},
     "output_type": "execute_result"
    }
   ],
   "source": [
    "pd.Series(predictions).value_counts()"
   ]
  },
  {
   "cell_type": "code",
   "execution_count": 115,
   "metadata": {},
   "outputs": [
    {
     "data": {
      "text/plain": [
       "Classics     28\n",
       "Animation    25\n",
       "Action       24\n",
       "Children     22\n",
       "Name: name, dtype: int64"
      ]
     },
     "execution_count": 115,
     "metadata": {},
     "output_type": "execute_result"
    }
   ],
   "source": [
    "y_test.value_counts()"
   ]
  },
  {
   "cell_type": "code",
   "execution_count": 116,
   "metadata": {},
   "outputs": [
    {
     "data": {
      "text/plain": [
       "array([[ 0, 24,  0,  0],\n",
       "       [ 0, 25,  0,  0],\n",
       "       [ 0, 22,  0,  0],\n",
       "       [ 0, 28,  0,  0]])"
      ]
     },
     "execution_count": 116,
     "metadata": {},
     "output_type": "execute_result"
    }
   ],
   "source": [
    "from sklearn.metrics import confusion_matrix\n",
    "confusion_matrix(y_test, predictions)"
   ]
  },
  {
   "cell_type": "code",
   "execution_count": 117,
   "metadata": {},
   "outputs": [],
   "source": [
    "# from sklearn import metrics\n",
    "# import matplotlib.pyplot as plt\n",
    "\n",
    "# y_pred_proba = classification.predict_proba(X_test)[::,1]\n",
    "# fpr, tpr, _ = metrics.roc_curve(y_test,  y_pred_proba)\n",
    "# auc = metrics.roc_auc_score(y_test, y_pred_proba)\n",
    "# plt.plot(fpr,tpr)"
   ]
  },
  {
   "cell_type": "code",
   "execution_count": 118,
   "metadata": {},
   "outputs": [
    {
     "data": {
      "text/plain": [
       "array([[0.27075106, 0.27749498, 0.25647657, 0.19527739],\n",
       "       [0.26982577, 0.27750292, 0.25735225, 0.19531906],\n",
       "       [0.27078833, 0.27748861, 0.2564577 , 0.19526536],\n",
       "       [0.27050356, 0.27749351, 0.25672112, 0.19528181],\n",
       "       [0.270731  , 0.27748944, 0.25651214, 0.19526743],\n",
       "       [0.27114967, 0.27748791, 0.25610829, 0.19525412],\n",
       "       [0.27002829, 0.27750134, 0.2571602 , 0.19531017],\n",
       "       [0.27091303, 0.27748586, 0.25634511, 0.19525601],\n",
       "       [0.271278  , 0.27747965, 0.2560068 , 0.19523556],\n",
       "       [0.27017486, 0.27749934, 0.25702427, 0.19530153],\n",
       "       [0.26971229, 0.2775064 , 0.25745245, 0.19532886],\n",
       "       [0.27057302, 0.27748959, 0.2566653 , 0.19527209],\n",
       "       [0.27103748, 0.27748538, 0.25622538, 0.19525175],\n",
       "       [0.27088796, 0.27749244, 0.25635026, 0.19526934],\n",
       "       [0.27119773, 0.27748136, 0.2560805 , 0.1952404 ],\n",
       "       [0.27063895, 0.27749498, 0.25658473, 0.19528134],\n",
       "       [0.27108294, 0.27748506, 0.25618229, 0.19524972],\n",
       "       [0.27076326, 0.27749326, 0.25647008, 0.19527339],\n",
       "       [0.26979365, 0.27749893, 0.2573955 , 0.19531193],\n",
       "       [0.27042613, 0.27749115, 0.25680294, 0.19527978],\n",
       "       [0.27069696, 0.27748988, 0.25654397, 0.19526919],\n",
       "       [0.27067528, 0.27748765, 0.25657117, 0.1952659 ],\n",
       "       [0.27052767, 0.27749171, 0.2567022 , 0.19527842],\n",
       "       [0.27107074, 0.27748873, 0.25618281, 0.19525771],\n",
       "       [0.27016326, 0.27750007, 0.2570332 , 0.19530347],\n",
       "       [0.27034474, 0.27749779, 0.25686239, 0.19529508],\n",
       "       [0.27000781, 0.27749748, 0.25719071, 0.195304  ],\n",
       "       [0.27025319, 0.27749999, 0.25694612, 0.1953007 ],\n",
       "       [0.27084494, 0.27748752, 0.25640614, 0.1952614 ],\n",
       "       [0.27019923, 0.27749457, 0.25701379, 0.19529242],\n",
       "       [0.27115188, 0.27748213, 0.25612333, 0.19524265],\n",
       "       [0.27046937, 0.27749456, 0.2567516 , 0.19528447],\n",
       "       [0.27102666, 0.27748471, 0.25623828, 0.19525034],\n",
       "       [0.26999574, 0.27749853, 0.2571996 , 0.19530613],\n",
       "       [0.27074342, 0.27748695, 0.25650741, 0.19526222],\n",
       "       [0.27090234, 0.27748625, 0.25635378, 0.19525763],\n",
       "       [0.27115271, 0.27748115, 0.25612517, 0.19524097],\n",
       "       [0.27049207, 0.27749503, 0.25672776, 0.19528514],\n",
       "       [0.27078765, 0.27748882, 0.25645882, 0.19526471],\n",
       "       [0.27036805, 0.27749439, 0.25685028, 0.19528728],\n",
       "       [0.27026657, 0.27749639, 0.25694232, 0.19529471],\n",
       "       [0.27063814, 0.27749524, 0.25658563, 0.19528099],\n",
       "       [0.27079841, 0.2774897 , 0.25644535, 0.19526654],\n",
       "       [0.27018732, 0.27749687, 0.25701837, 0.19529745],\n",
       "       [0.27006319, 0.27749867, 0.2571342 , 0.19530394],\n",
       "       [0.27127696, 0.27748126, 0.25600363, 0.19523815],\n",
       "       [0.27026619, 0.27749698, 0.25694186, 0.19529496],\n",
       "       [0.26997126, 0.2775034 , 0.25720969, 0.19531564],\n",
       "       [0.27036822, 0.27749415, 0.25685107, 0.19528657],\n",
       "       [0.27033416, 0.27749624, 0.25687707, 0.19529252],\n",
       "       [0.27056011, 0.27749478, 0.25666193, 0.19528317],\n",
       "       [0.2708999 , 0.27749124, 0.25634226, 0.19526659],\n",
       "       [0.26981413, 0.2775049 , 0.25735772, 0.19532324],\n",
       "       [0.27031322, 0.27749231, 0.25690951, 0.19528495],\n",
       "       [0.27055968, 0.27749462, 0.25666412, 0.19528158],\n",
       "       [0.26974981, 0.27749821, 0.25743898, 0.195313  ],\n",
       "       [0.27121871, 0.27748419, 0.2560522 , 0.1952449 ],\n",
       "       [0.27026831, 0.27749264, 0.25695156, 0.19528748],\n",
       "       [0.26995116, 0.27749732, 0.25724698, 0.19530454],\n",
       "       [0.26980334, 0.27750238, 0.25737622, 0.19531805],\n",
       "       [0.27017614, 0.27749696, 0.25702917, 0.19529773],\n",
       "       [0.27069542, 0.27749404, 0.25653291, 0.19527763],\n",
       "       [0.27061764, 0.27749249, 0.25661303, 0.19527684],\n",
       "       [0.27065283, 0.27748815, 0.25659117, 0.19526785],\n",
       "       [0.2705497 , 0.27749127, 0.25668289, 0.19527614],\n",
       "       [0.27032231, 0.27749821, 0.25688368, 0.19529579],\n",
       "       [0.2708459 , 0.27748538, 0.25641161, 0.19525712],\n",
       "       [0.27062732, 0.27749431, 0.25659876, 0.19527961],\n",
       "       [0.27110399, 0.27748889, 0.25615109, 0.19525603],\n",
       "       [0.27115213, 0.27748175, 0.25612441, 0.19524171],\n",
       "       [0.27029944, 0.27749855, 0.25690418, 0.19529782],\n",
       "       [0.26986117, 0.27749817, 0.25733215, 0.19530851],\n",
       "       [0.27070997, 0.27748745, 0.25653741, 0.19526517],\n",
       "       [0.27058212, 0.27749523, 0.25663969, 0.19528296],\n",
       "       [0.27112691, 0.27748927, 0.25612641, 0.19525742],\n",
       "       [0.27072984, 0.27749272, 0.2565032 , 0.19527423],\n",
       "       [0.27105828, 0.27748959, 0.25619312, 0.19525901],\n",
       "       [0.27039296, 0.27749064, 0.25683617, 0.19528023],\n",
       "       [0.27101587, 0.27748313, 0.25625283, 0.19524817],\n",
       "       [0.2710016 , 0.27749085, 0.25624426, 0.1952633 ],\n",
       "       [0.27075407, 0.27748855, 0.25649138, 0.19526601],\n",
       "       [0.27037919, 0.27749466, 0.25683869, 0.19528746],\n",
       "       [0.2701884 , 0.27749401, 0.25702637, 0.19529122],\n",
       "       [0.27062885, 0.27749043, 0.25660816, 0.19527256],\n",
       "       [0.27063837, 0.27749559, 0.25658397, 0.19528208],\n",
       "       [0.27068521, 0.27749261, 0.25654675, 0.19527544],\n",
       "       [0.27111761, 0.27748271, 0.25615482, 0.19524486],\n",
       "       [0.27121865, 0.27748625, 0.25604572, 0.19524938],\n",
       "       [0.27057308, 0.27749004, 0.25666329, 0.19527359],\n",
       "       [0.26980451, 0.27749936, 0.25738322, 0.19531291],\n",
       "       [0.27033416, 0.2774964 , 0.25687688, 0.19529256],\n",
       "       [0.26982613, 0.27750114, 0.25735719, 0.19531555],\n",
       "       [0.27093589, 0.27748587, 0.25632214, 0.1952561 ],\n",
       "       [0.27041519, 0.27749072, 0.25681501, 0.19527908],\n",
       "       [0.27067305, 0.27749441, 0.25655318, 0.19527936],\n",
       "       [0.27084582, 0.27748519, 0.25641172, 0.19525727],\n",
       "       [0.27017687, 0.27749476, 0.2570354 , 0.19529297],\n",
       "       [0.26990675, 0.27749808, 0.25728731, 0.19530787],\n",
       "       [0.27065077, 0.27749243, 0.25658159, 0.19527522]])"
      ]
     },
     "execution_count": 118,
     "metadata": {},
     "output_type": "execute_result"
    }
   ],
   "source": [
    "classification.predict_proba(X_test)"
   ]
  },
  {
   "cell_type": "code",
   "execution_count": 119,
   "metadata": {},
   "outputs": [
    {
     "data": {
      "text/plain": [
       "array([0.27075106, 0.26982577, 0.27078833, 0.27050356, 0.270731  ,\n",
       "       0.27114967, 0.27002829, 0.27091303, 0.271278  , 0.27017486,\n",
       "       0.26971229, 0.27057302, 0.27103748, 0.27088796, 0.27119773,\n",
       "       0.27063895, 0.27108294, 0.27076326, 0.26979365, 0.27042613,\n",
       "       0.27069696, 0.27067528, 0.27052767, 0.27107074, 0.27016326,\n",
       "       0.27034474, 0.27000781, 0.27025319, 0.27084494, 0.27019923,\n",
       "       0.27115188, 0.27046937, 0.27102666, 0.26999574, 0.27074342,\n",
       "       0.27090234, 0.27115271, 0.27049207, 0.27078765, 0.27036805,\n",
       "       0.27026657, 0.27063814, 0.27079841, 0.27018732, 0.27006319,\n",
       "       0.27127696, 0.27026619, 0.26997126, 0.27036822, 0.27033416,\n",
       "       0.27056011, 0.2708999 , 0.26981413, 0.27031322, 0.27055968,\n",
       "       0.26974981, 0.27121871, 0.27026831, 0.26995116, 0.26980334,\n",
       "       0.27017614, 0.27069542, 0.27061764, 0.27065283, 0.2705497 ,\n",
       "       0.27032231, 0.2708459 , 0.27062732, 0.27110399, 0.27115213,\n",
       "       0.27029944, 0.26986117, 0.27070997, 0.27058212, 0.27112691,\n",
       "       0.27072984, 0.27105828, 0.27039296, 0.27101587, 0.2710016 ,\n",
       "       0.27075407, 0.27037919, 0.2701884 , 0.27062885, 0.27063837,\n",
       "       0.27068521, 0.27111761, 0.27121865, 0.27057308, 0.26980451,\n",
       "       0.27033416, 0.26982613, 0.27093589, 0.27041519, 0.27067305,\n",
       "       0.27084582, 0.27017687, 0.26990675, 0.27065077])"
      ]
     },
     "execution_count": 119,
     "metadata": {},
     "output_type": "execute_result"
    }
   ],
   "source": [
    "classification.predict_proba(X_test)[::,0]"
   ]
  },
  {
   "cell_type": "code",
   "execution_count": 120,
   "metadata": {},
   "outputs": [],
   "source": [
    "from sklearn.preprocessing import label_binarize\n",
    "y = label_binarize(y, classes=[0,1,2,3])\n",
    "n_classes = 4"
   ]
  },
  {
   "cell_type": "code",
   "execution_count": 121,
   "metadata": {},
   "outputs": [],
   "source": [
    "from sklearn import datasets\n",
    "iris = datasets.load_iris()\n",
    "X, y = iris.data, iris.target\n",
    "\n",
    "y = label_binarize(y, classes=[0,1,2])\n",
    "n_classes = 3"
   ]
  }
 ],
 "metadata": {
  "kernelspec": {
   "display_name": "Python 3",
   "language": "python",
   "name": "python3"
  },
  "language_info": {
   "codemirror_mode": {
    "name": "ipython",
    "version": 3
   },
   "file_extension": ".py",
   "mimetype": "text/x-python",
   "name": "python",
   "nbconvert_exporter": "python",
   "pygments_lexer": "ipython3",
   "version": "3.8.5"
  }
 },
 "nbformat": 4,
 "nbformat_minor": 4
}
